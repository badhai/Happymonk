import numpy as np
import matplotlib.pyplot as plt
import pandas as pd 
from sklearn import preprocessing
from sklearn.preprocessing import MinMaxScaler
from sklearn import metrics
from sklearn.metrics import confusion_matrix
import itertools
from sklearn.metrics import f1_score

np.set_printoptions(threshold=np.inf)

%matplotlib inline
%load_ext autoreload
%autoreload 2



df = pd.read_csv('wisconsin-cancer-dataset.csv',header=None)
df = df[~df[6].isin(['?'])]
df = df.astype(float)
df.iloc[:,10].replace(2, 0,inplace=True)
df.iloc[:,10].replace(4, 1,inplace=True)

scaled_df=df
names = df.columns[0:10]
scaler = MinMaxScaler() 
scaled_df = scaler.fit_transform(df.iloc[:,0:10]) 
scaled_df = pd.DataFrame(scaled_df, columns=names)

test_ind=int(scaled_df.shape[0]*0.8)
x=scaled_df.iloc[0:test_ind,1:10].values.transpose()
y=df.iloc[0:test_ind,10:].values.transpose()

xval=scaled_df.iloc[test_ind:683,1:10].values.transpose()
yval=df.iloc[test_ind:,10:].values.transpose()

print(df.shape, x.shape, y.shape, xval.shape, yval.shape)

def Sigmoid(Z):
    """
    Function used at ouput layer instead of softmax"""
    
    return 1/(1+np.exp(-Z))



def dSigmoid(Z):
    """
    Derivative of Sigmoid"""
    s = 1/(1+np.exp(-Z))
    dZ = s * (1-s)
    return dZ


def AF(Z,K_0,K_1):
    return K_0+K_1*Z

def dAF(K_1):
    return K_1

class ExampleNet:
    def __init__(self, x, y):
        self.debug = 0;
        self.X=x
        self.Y=y
        self.Yh=np.zeros((1,self.Y.shape[1])) 
        self.L=2
        self.dims = [9, 100, 1] 
        self.param = {}
        self.ch = {}
        self.grad = {}
        self.loss = []
        self.K0=[]
        self.K1=[]
        self.lr=0.003
        self.sam = self.Y.shape[1]
        self.threshold=0.6
        
    def nInit(self):    
        np.random.seed(1)
        self.param['W1'] = np.random.randn(self.dims[1], self.dims[0]) / np.sqrt(self.dims[0]) 
        self.param['b1'] = np.zeros((self.dims[1], 1))        
        self.param['W2'] = np.random.randn(self.dims[2], self.dims[1]) / np.sqrt(self.dims[1]) 
        self.param['b2'] = np.zeros((self.dims[2], 1))    
        self.param['K']=np.random.randn(2,1)
        print(self.param['K'])
        
        return 

    def forward(self):
        """
        Implementation of one full forward pass from input to output layer."""
        Z1 = self.param['W1'].dot(self.X) + self.param['b1'] 

        A1 = AF(Z1,self.param['K'][0],self.param['K'][1])

        self.ch['Z1'],self.ch['A1']=Z1,A1
        
        Z2 = self.param['W2'].dot(A1) + self.param['b2']  


        A2 = Sigmoid(Z2)

        self.ch['Z2'],self.ch['A2']=Z2,A2
        
        self.Yh=A2
        
        loss=self.nloss(A2)
        return self.Yh, loss

    def nloss(self,Yh):
        """
        Fuction to calculate loss."""
        loss = (1./self.sam) * (-np.dot(self.Y,np.log(Yh).T) - np.dot(1-self.Y, np.log(1-Yh).T))    
        return loss

    def backward(self):
        """
        Implementation of backpropagation equations"""
        dLoss_Yh = - (np.divide(self.Y, self.Yh ) - np.divide(1 - self.Y, 1 - self.Yh))    
        
        dLoss_Z2 = dLoss_Yh * dSigmoid(self.ch['Z2'])    
        dLoss_A1 = np.dot(self.param["W2"].T,dLoss_Z2)
        a=dLoss_A1.mean(axis=0)
        dLoss_W2 = 1./self.ch['A1'].shape[1] * np.dot(dLoss_Z2,self.ch['A1'].T)
        dLoss_b2 = 1./self.ch['A1'].shape[1] * np.dot(dLoss_Z2, np.ones([dLoss_Z2.shape[1],1])) 
                            
        dLoss_Z1 = dLoss_A1 * dAF(self.ch['Z1'])
        b=(dLoss_A1*(self.ch['Z1'])).mean(axis=0)

        dLoss_A0 = np.dot(self.param["W1"].T,dLoss_Z1)
        dLoss_W1 = 1./self.X.shape[1] * np.dot(dLoss_Z1,self.X.T)
        dLoss_b1 = 1./self.X.shape[1] * np.dot(dLoss_Z1, np.ones([dLoss_Z1.shape[1],1]))  
        
        self.param["W1"] = self.param["W1"] - self.lr * dLoss_W1
        self.param["b1"] = self.param["b1"] - self.lr * dLoss_b1
        self.param["W2"] = self.param["W2"] - self.lr * dLoss_W2
        self.param["b2"] = self.param["b2"] - self.lr * dLoss_b2
        self.param["K"][0] = np.mean(self.param["K"][0] - self.lr * a)
        self.param["K"][1] = np.mean(self.param["K"][1] - self.lr * b)
#         print(self.param["K"][1])
        
        return self.param["K"]


    def pred(self,x, y):
        """
        Function uses the learned parametrs to make prediction on test data """
        self.X=x
        self.Y=y
        comp = np.zeros((1,x.shape[1]))
        pred, loss= self.forward()    
    
        for i in range(0, pred.shape[1]):
            if pred[0,i] > self.threshold: comp[0,i] = 1
            else: comp[0,i] = 0
        
        print("Acc: " + str(np.sum((comp == y)/x.shape[1])))
        
        
        return comp
    
    def gd(self,X, Y, epoch):
        """
        Function used for learning the parameters.
        """
        np.random.seed(1)                         
    
        self.nInit()
    
        for i in range(0, epoch):
            Yh, loss=self.forward()
            K=self.backward()
#             print(K)
            self.K0.append(K[0][0])
#             print(K[1][0])
            self.K1.append(K[1][0])
            self.loss.append(loss)
                
        plt.plot(np.squeeze(self.loss))
        plt.ylabel('Loss')
        plt.xlabel('Epoch')
        plt.title("Lr =" + str(self.lr))
        plt.show()
        
        plt.plot(self.K0)
        plt.ylabel('K0')
        plt.xlabel('Epoch')
        plt.show()
        plt.plot(self.K1)
        plt.ylabel('K1')
        plt.xlabel('Epoch')
        plt.show()
           
        return
nn = ExampleNet(x,y)
nn.lr=0.07
nn.gd(x, y, epoch = 1000)

pred_train = nn.pred(x, y)
pred_test = nn.pred(xval, yval)
yval_list =yval.tolist()
pred_test_list =pred_test.tolist()

yval = [int(i) for i in yval.tolist()[0]] 
pred_test = [int(i) for i in pred_test.tolist()[0]] 

print(f1_score(yval, pred_test)) 
